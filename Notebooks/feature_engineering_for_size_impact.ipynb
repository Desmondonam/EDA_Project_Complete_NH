{
 "cells": [
  {
   "cell_type": "markdown",
   "metadata": {},
   "source": [
    "For a real estate pricing analysis project, one important aspect of feature engineering is incorporating size-related variables into the dataset to enhance model accuracy and insight. Below, I provide a Python script that covers several size-related features that could be impactful for my analysis."
   ]
  },
  {
   "cell_type": "code",
   "execution_count": 1,
   "metadata": {},
   "outputs": [],
   "source": [
    "import pandas as pd"
   ]
  },
  {
   "cell_type": "code",
   "execution_count": 2,
   "metadata": {},
   "outputs": [],
   "source": [
    "import pandas as pd\n",
    "\n",
    "# Load cleaned data\n",
    "path = r'C:\\Users\\Admin\\Desktop\\NextHikes\\EDA_Project_Complete\\Data\\cleaned_data.csv'\n",
    "df = pd.read_csv(path)"
   ]
  },
  {
   "cell_type": "code",
   "execution_count": 3,
   "metadata": {},
   "outputs": [],
   "source": [
    "# 1. Total square footage as the sum of basement, 1st and 2nd floor areas\n",
    "df['TotalSF'] = df['TotalBsmtSF'] + df['1stFlrSF'] + df['2ndFlrSF']"
   ]
  },
  {
   "cell_type": "code",
   "execution_count": 4,
   "metadata": {},
   "outputs": [],
   "source": [
    "# 2. Total bathrooms including full and half, both above and below grade\n",
    "df['TotalBathrooms'] = (df['FullBath'] + (0.5 * df['HalfBath']) +\n",
    "                        df['BsmtFullBath'] + (0.5 * df['BsmtHalfBath']))"
   ]
  },
  {
   "cell_type": "code",
   "execution_count": 5,
   "metadata": {},
   "outputs": [],
   "source": [
    "# 3. Total porch area (sum of all porch area variables)\n",
    "df['TotalPorchSF'] = (df['OpenPorchSF'] + df['EnclosedPorch'] + \n",
    "                      df['3SsnPorch'] + df['ScreenPorch'])"
   ]
  },
  {
   "cell_type": "code",
   "execution_count": 6,
   "metadata": {},
   "outputs": [],
   "source": [
    "# 4. Adding boolean feature for whether the house has a 2nd floor\n",
    "df['Has2ndFloor'] = (df['2ndFlrSF'] > 0).astype(int)"
   ]
  },
  {
   "cell_type": "code",
   "execution_count": 7,
   "metadata": {},
   "outputs": [],
   "source": [
    "# 5. Adding boolean feature for whether the house has a garage\n",
    "df['HasGarage'] = (df['GarageArea'] > 0).astype(int)"
   ]
  },
  {
   "cell_type": "code",
   "execution_count": 8,
   "metadata": {},
   "outputs": [],
   "source": [
    "# 6. Adding boolean feature for whether the house has a basement\n",
    "df['HasBasement'] = (df['TotalBsmtSF'] > 0).astype(int)"
   ]
  },
  {
   "cell_type": "code",
   "execution_count": 9,
   "metadata": {},
   "outputs": [],
   "source": [
    "# 7. Adding boolean feature for whether the house has a fireplace\n",
    "df['HasFireplace'] = (df['Fireplaces'] > 0).astype(int)"
   ]
  },
  {
   "cell_type": "code",
   "execution_count": 10,
   "metadata": {},
   "outputs": [],
   "source": [
    "# 8. Feature interaction: Area * Overall Quality (potentially capturing the quality of the large houses better)\n",
    "df['Area_x_OverallQual'] = df['TotalSF'] * df['OverallQual']"
   ]
  },
  {
   "cell_type": "code",
   "execution_count": 12,
   "metadata": {},
   "outputs": [],
   "source": [
    "import numpy as np"
   ]
  },
  {
   "cell_type": "code",
   "execution_count": 13,
   "metadata": {},
   "outputs": [],
   "source": [
    "# 9. Log transformation of TotalSF to normalize the distribution\n",
    "df['LogTotalSF'] = np.log(df['TotalSF'] + 1)"
   ]
  },
  {
   "cell_type": "code",
   "execution_count": 14,
   "metadata": {},
   "outputs": [],
   "source": [
    "# 10. Creating new feature for the age of the house at the time of sale\n",
    "df['HouseAge'] = df['YrSold'] - df['YearBuilt']"
   ]
  },
  {
   "cell_type": "code",
   "execution_count": 15,
   "metadata": {},
   "outputs": [],
   "source": [
    "# 11. Feature to capture years since remodeling\n",
    "df['YearsSinceRemodel'] = df['YrSold'] - df['YearRemodAdd']"
   ]
  },
  {
   "cell_type": "code",
   "execution_count": 19,
   "metadata": {},
   "outputs": [],
   "source": [
    "# Save the enhanced dataset with new features\n",
    "df.to_csv('C:/Users/Admin/Desktop/NextHikes/EDA_Project_Complete/Data/enhanced_data_with_size_features.csv', index=False)"
   ]
  },
  {
   "cell_type": "code",
   "execution_count": 18,
   "metadata": {},
   "outputs": [
    {
     "name": "stdout",
     "output_type": "stream",
     "text": [
      "   Unnamed: 0  LotFrontage  LotArea  OverallQual  OverallCond  YearBuilt  \\\n",
      "0           0           65     8450            7            5       2003   \n",
      "1           1           80     9600            6            8       1976   \n",
      "2           2           68    11250            7            5       2001   \n",
      "3           3           60     9550            7            5       1915   \n",
      "4           4           84    14260            8            5       2000   \n",
      "\n",
      "   YearRemodAdd  MasVnrArea  BsmtFinSF1  BsmtFinSF2  ...  TotalBathrooms  \\\n",
      "0          2003         196         706           0  ...             3.5   \n",
      "1          1976           0         978           0  ...             2.5   \n",
      "2          2002         162         486           0  ...             3.5   \n",
      "3          1970           0         216           0  ...             2.0   \n",
      "4          2000         350         655           0  ...             3.5   \n",
      "\n",
      "   TotalPorchSF  Has2ndFloor  HasGarage  HasBasement  HasFireplace  \\\n",
      "0            61            1          1            1             0   \n",
      "1             0            0          1            1             1   \n",
      "2            42            1          1            1             1   \n",
      "3           307            1          1            1             1   \n",
      "4            84            1          1            1             1   \n",
      "\n",
      "   Area_x_OverallQual  LogTotalSF  HouseAge  YearsSinceRemodel  \n",
      "0               17962    7.850493         5                  5  \n",
      "1               15144    7.833996        31                 31  \n",
      "2               18942    7.903596         7                  6  \n",
      "3               17311    7.813592        91                 36  \n",
      "4               26744    8.114923         8                  8  \n",
      "\n",
      "[5 rows x 295 columns]\n"
     ]
    }
   ],
   "source": [
    "print(df.head())  # To check the new features"
   ]
  },
  {
   "cell_type": "code",
   "execution_count": null,
   "metadata": {},
   "outputs": [],
   "source": []
  }
 ],
 "metadata": {
  "kernelspec": {
   "display_name": "base",
   "language": "python",
   "name": "python3"
  },
  "language_info": {
   "codemirror_mode": {
    "name": "ipython",
    "version": 3
   },
   "file_extension": ".py",
   "mimetype": "text/x-python",
   "name": "python",
   "nbconvert_exporter": "python",
   "pygments_lexer": "ipython3",
   "version": "3.11.5"
  }
 },
 "nbformat": 4,
 "nbformat_minor": 2
}
