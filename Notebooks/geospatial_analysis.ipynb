{
 "cells": [
  {
   "cell_type": "markdown",
   "metadata": {},
   "source": [
    "pip install geopandas matplotlib contextily"
   ]
  },
  {
   "cell_type": "code",
   "execution_count": 1,
   "metadata": {},
   "outputs": [],
   "source": [
    "# Import libraries\n",
    "import geopandas as gpd\n",
    "import pandas as pd\n",
    "import matplotlib.pyplot as plt\n",
    "import contextily as ctx"
   ]
  },
  {
   "cell_type": "code",
   "execution_count": 7,
   "metadata": {},
   "outputs": [],
   "source": [
    "# Load your data\n",
    "path = r'C:\\Users\\Admin\\Desktop\\NextHikes\\EDA_Project_Complete\\Data\\housing_data.csv'\n",
    "# path = r'C:\\Users\\Admin\\Desktop\\NextHikes\\EDA_Project_Complete\\Data\\enhanced_data.csv'\n",
    "df = pd.read_csv(path)"
   ]
  },
  {
   "cell_type": "code",
   "execution_count": 9,
   "metadata": {},
   "outputs": [],
   "source": [
    "# For demonstration, create a mock-up GeoDataFrame representing neighborhoods\n",
    "# Normally, you would load this from a geographic data file (.shp, .geojson, etc.)\n",
    "# Here's an example using simple made-up data:\n",
    "\n",
    "data = {'Neighborhood': ['CollgCr', 'Veenker', 'Crawfor', 'NoRidge', 'Mitchel', 'Somerst',\n",
    "       'NWAmes', 'OldTown', 'BrkSide', 'Sawyer', 'NridgHt', 'NAmes',\n",
    "       'SawyerW', 'IDOTRR', 'MeadowV', 'Edwards', 'Timber', 'Gilbert',\n",
    "       'StoneBr', 'ClearCr', 'NPkVill', 'Blmngtn', 'BrDale', 'SWISU',\n",
    "       'Blueste'],\n",
    "        'Latitude': [34.0522, 51.5074, -33.8688, 35.6895, 55.7558, -23.5505, 48.8566, 40.7128, 28.6139, 19.4326, 52.5200, 37.7749,   \n",
    "                 1.3521,    41.9028, -34.6037, 39.9042, 30.0444, 59.3293, -1.2921,  43.6532,   \n",
    "                 22.3964,  33.5138, 3.1390, -22.9068, 60.1699],\n",
    "        'Longitude': [-118.2437, -0.1278, 151.2093, 139.6917, 37.6173, -46.6333, 2.3522, -74.0060,  \n",
    "                77.2090, -99.1332, 13.4050, -122.4194, 103.8198, 12.4964, -58.3816, 116.4074,  \n",
    "                31.2357, 18.0686, 36.8219, -79.3832, 114.1095, 36.2765, 101.6869, -43.1729,  \n",
    "                24.9384]}"
   ]
  },
  {
   "cell_type": "code",
   "execution_count": 10,
   "metadata": {},
   "outputs": [],
   "source": [
    "geo_df = pd.DataFrame(data)\n",
    "geo_df = gpd.GeoDataFrame(geo_df, geometry=gpd.points_from_xy(geo_df.Longitude, geo_df.Latitude))\n"
   ]
  },
  {
   "cell_type": "code",
   "execution_count": 11,
   "metadata": {},
   "outputs": [
    {
     "data": {
      "text/plain": [
       "array(['CollgCr', 'Veenker', 'Crawfor', 'NoRidge', 'Mitchel', 'Somerst',\n",
       "       'NWAmes', 'OldTown', 'BrkSide', 'Sawyer', 'NridgHt', 'NAmes',\n",
       "       'SawyerW', 'IDOTRR', 'MeadowV', 'Edwards', 'Timber', 'Gilbert',\n",
       "       'StoneBr', 'ClearCr', 'NPkVill', 'Blmngtn', 'BrDale', 'SWISU',\n",
       "       'Blueste'], dtype=object)"
      ]
     },
     "execution_count": 11,
     "metadata": {},
     "output_type": "execute_result"
    }
   ],
   "source": [
    "df['Neighborhood'].unique()"
   ]
  },
  {
   "cell_type": "code",
   "execution_count": 12,
   "metadata": {},
   "outputs": [],
   "source": [
    "# Aggregate your main data by neighborhood to get mean prices or other stats\n",
    "neighborhood_stats = df.groupby('Neighborhood')['SalePrice'].mean().reset_index()\n"
   ]
  },
  {
   "cell_type": "code",
   "execution_count": 13,
   "metadata": {},
   "outputs": [],
   "source": [
    "# Merge this with the geographic data\n",
    "geo_df = geo_df.merge(neighborhood_stats, on='Neighborhood', how='left')"
   ]
  },
  {
   "cell_type": "code",
   "execution_count": 14,
   "metadata": {},
   "outputs": [],
   "source": [
    "# Convert to a GeoDataFrame\n",
    "geo_df = gpd.GeoDataFrame(geo_df)"
   ]
  },
  {
   "cell_type": "code",
   "execution_count": 15,
   "metadata": {},
   "outputs": [
    {
     "ename": "AttributeError",
     "evalue": "'NoneType' object has no attribute 'to_string'",
     "output_type": "error",
     "traceback": [
      "\u001b[1;31m---------------------------------------------------------------------------\u001b[0m",
      "\u001b[1;31mAttributeError\u001b[0m                            Traceback (most recent call last)",
      "Cell \u001b[1;32mIn[15], line 6\u001b[0m\n\u001b[0;32m      2\u001b[0m fig, ax \u001b[38;5;241m=\u001b[39m plt\u001b[38;5;241m.\u001b[39msubplots(figsize\u001b[38;5;241m=\u001b[39m(\u001b[38;5;241m10\u001b[39m, \u001b[38;5;241m10\u001b[39m))\n\u001b[0;32m      3\u001b[0m base \u001b[38;5;241m=\u001b[39m geo_df\u001b[38;5;241m.\u001b[39mplot(column\u001b[38;5;241m=\u001b[39m\u001b[38;5;124m'\u001b[39m\u001b[38;5;124mSalePrice\u001b[39m\u001b[38;5;124m'\u001b[39m, ax\u001b[38;5;241m=\u001b[39max, legend\u001b[38;5;241m=\u001b[39m\u001b[38;5;28;01mTrue\u001b[39;00m,\n\u001b[0;32m      4\u001b[0m                    legend_kwds\u001b[38;5;241m=\u001b[39m{\u001b[38;5;124m'\u001b[39m\u001b[38;5;124mlabel\u001b[39m\u001b[38;5;124m'\u001b[39m: \u001b[38;5;124m\"\u001b[39m\u001b[38;5;124mAverage Sale Price by Neighborhood\u001b[39m\u001b[38;5;124m\"\u001b[39m,\n\u001b[0;32m      5\u001b[0m                                 \u001b[38;5;124m'\u001b[39m\u001b[38;5;124morientation\u001b[39m\u001b[38;5;124m'\u001b[39m: \u001b[38;5;124m\"\u001b[39m\u001b[38;5;124mhorizontal\u001b[39m\u001b[38;5;124m\"\u001b[39m})\n\u001b[1;32m----> 6\u001b[0m ctx\u001b[38;5;241m.\u001b[39madd_basemap(ax, crs\u001b[38;5;241m=\u001b[39mgeo_df\u001b[38;5;241m.\u001b[39mcrs\u001b[38;5;241m.\u001b[39mto_string(), source\u001b[38;5;241m=\u001b[39mctx\u001b[38;5;241m.\u001b[39mproviders\u001b[38;5;241m.\u001b[39mCartoDB\u001b[38;5;241m.\u001b[39mPositron)\n\u001b[0;32m      7\u001b[0m ax\u001b[38;5;241m.\u001b[39mset_title(\u001b[38;5;124m'\u001b[39m\u001b[38;5;124mGeospatial Distribution of Average House Prices\u001b[39m\u001b[38;5;124m'\u001b[39m)\n\u001b[0;32m      8\u001b[0m ax\u001b[38;5;241m.\u001b[39mset_axis_off()\n",
      "\u001b[1;31mAttributeError\u001b[0m: 'NoneType' object has no attribute 'to_string'"
     ]
    },
    {
     "data": {
      "image/png": "[encoded data removed]",
      "text/plain": [
       "<Figure size 1000x1000 with 2 Axes>"
      ]
     },
     "metadata": {},
     "output_type": "display_data"
    }
   ],
   "source": [
    "# Plotting\n",
    "fig, ax = plt.subplots(figsize=(10, 10))\n",
    "base = geo_df.plot(column='SalePrice', ax=ax, legend=True,\n",
    "                   legend_kwds={'label': \"Average Sale Price by Neighborhood\",\n",
    "                                'orientation': \"horizontal\"})\n",
    "ctx.add_basemap(ax, crs=geo_df.crs.to_string(), source=ctx.providers.CartoDB.Positron)\n",
    "ax.set_title('Geospatial Distribution of Average House Prices')\n",
    "ax.set_axis_off()\n",
    "plt.show()"
   ]
  },
  {
   "cell_type": "code",
   "execution_count": null,
   "metadata": {},
   "outputs": [],
   "source": []
  },
  {
   "cell_type": "markdown",
   "metadata": {},
   "source": [
    "Explanation:\n",
    "Mock Geographic Data: This script starts by creating a mock GeoDataFrame that should represent real geographic data you might have. In practice, you'll replace this with loading a shapefile or other geographic data file that contains actual boundaries or points for neighborhoods or other locations relevant to your dataset.\n",
    "Data Aggregation: The script calculates average sale prices per neighborhood. This step assumes that you can aggregate pricing data by some locational attribute.\n",
    "Merging and Mapping: The geographic DataFrame is merged with the calculated statistics and then plotted as a choropleth map showing the average sale prices. contextily is used to add a basemap for better context.\n",
    "Adjustments for Real Data: Replace the mock data and operations with your actual data operations. If you're using ZIP codes or similar, you might need to join your data with a ZIP code boundary file or use an API to convert ZIP codes to geographic coordinates."
   ]
  },
  {
   "cell_type": "markdown",
   "metadata": {},
   "source": []
  }
 ],
 "metadata": {
  "kernelspec": {
   "display_name": "base",
   "language": "python",
   "name": "python3"
  },
  "language_info": {
   "codemirror_mode": {
    "name": "ipython",
    "version": 3
   },
   "file_extension": ".py",
   "mimetype": "text/x-python",
   "name": "python",
   "nbconvert_exporter": "python",
   "pygments_lexer": "ipython3",
   "version": "3.11.5"
  }
 },
 "nbformat": 4,
 "nbformat_minor": 2
}
